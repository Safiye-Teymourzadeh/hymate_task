{
 "cells": [
  {
   "cell_type": "code",
   "id": "initial_id",
   "metadata": {
    "collapsed": true,
    "ExecuteTime": {
     "end_time": "2025-05-08T06:08:38.364389Z",
     "start_time": "2025-05-08T06:08:38.103982Z"
    }
   },
   "source": [
    "import numpy as np\n",
    "import pandas as pd\n",
    "import json\n",
    "from collections import defaultdict"
   ],
   "outputs": [],
   "execution_count": 1
  },
  {
   "metadata": {
    "ExecuteTime": {
     "end_time": "2025-05-08T06:08:38.413307Z",
     "start_time": "2025-05-08T06:08:38.407002Z"
    }
   },
   "cell_type": "code",
   "source": [
    "availability = pd.read_csv('/home/farnoosh/git_repos/hymate_task/input_data/availability.csv')\n",
    "\n",
    "prices = pd.read_csv('/home/farnoosh/git_repos/hymate_task/input_data/prices.csv')\n",
    "\n",
    "with open('/home/farnoosh/git_repos/hymate_task/input_data/cars.json') as f:\n",
    "    cars = json.load(f)\n",
    "\n",
    "with open('/home/farnoosh/git_repos/hymate_task/input_data/requirements.json') as f:\n",
    "    requirements = json.load(f)"
   ],
   "id": "97f60772ab78893a",
   "outputs": [],
   "execution_count": 2
  },
  {
   "metadata": {
    "ExecuteTime": {
     "end_time": "2025-05-08T06:08:38.696233Z",
     "start_time": "2025-05-08T06:08:38.693279Z"
    }
   },
   "cell_type": "code",
   "source": [
    "CAR_IDS = ['Car_1', 'Car_2', 'Car_3', 'Car_4', 'Car_5']\n",
    "DAYS = ['0', '1', '2', '3', '4', '5']\n",
    "MAX_PORTS = 3\n",
    "EFFICIENCY = 0.95"
   ],
   "id": "451c2896dc03b341",
   "outputs": [],
   "execution_count": 3
  },
  {
   "metadata": {
    "ExecuteTime": {
     "end_time": "2025-05-08T06:08:39.114595Z",
     "start_time": "2025-05-08T06:08:39.086865Z"
    }
   },
   "cell_type": "code",
   "source": [
    "def get_hour_index(day, hour):\n",
    "    return int(day) * 24 + hour\n",
    "\n",
    "# Calculate cost of charging for a car\n",
    "def calculate_cost(car_id, day, hour, initial_soc, availability_df, prices_df, cars_list, efficiency=0.95):\n",
    "    hour_idx = get_hour_index(day, hour)\n",
    "    car = next(car for car in cars_list if car['id'] == car_id)\n",
    "\n",
    "    # If there is no requirement data for a car_id, do nothing (for car_5)\n",
    "    try:\n",
    "        target_soc = next(iter(requirements[car_id][day].values()))\n",
    "    except KeyError:\n",
    "        return None\n",
    "\n",
    "    # Calculate the total daily energy and cost\n",
    "    delta_soc = target_soc - initial_soc\n",
    "    if delta_soc <= 0 or availability_df.loc[hour_idx, car_id] != 1:\n",
    "        return None\n",
    "\n",
    "    energy_needed = delta_soc * car['capacity_kWh']\n",
    "    real_energy_needed = energy_needed / efficiency\n",
    "    hours_needed = int(np.ceil(real_energy_needed / car['max_charge_rate_kW']))\n",
    "\n",
    "    total_energy_charged, total_cost = 0, 0\n",
    "    charging_schedule = {}\n",
    "\n",
    "    for h in range(hour_idx, hour_idx + hours_needed):\n",
    "        if h >= len(prices_df) or availability_df.loc[h, car_id] != 1:\n",
    "            return None\n",
    "        price = prices_df.loc[h, 'price_eur_per_kWh']\n",
    "        energy_this_hour = min(car['max_charge_rate_kW'], (real_energy_needed - total_energy_charged))\n",
    "        total_energy_charged += energy_this_hour\n",
    "        total_cost += energy_this_hour * price\n",
    "        charging_schedule[h] = round(energy_this_hour, 2)\n",
    "        if total_energy_charged >= real_energy_needed:\n",
    "            break\n",
    "\n",
    "    finish_hour = max(charging_schedule.keys()) if charging_schedule else None\n",
    "    return {\n",
    "        'car_id': car_id,\n",
    "        'day': day,\n",
    "        'start_hour': hour_idx,\n",
    "        'finish_hour': finish_hour,\n",
    "        'hours_charging': len(charging_schedule),\n",
    "        'total_cost': round(total_cost, 2)\n",
    "    }\n",
    "\n",
    "# Calculate all possible plans\n",
    "costs = []\n",
    "for day in DAYS:\n",
    "    for car_id in CAR_IDS:\n",
    "        for hour in range(0, 24):\n",
    "            plan = calculate_cost(car_id, day, hour, 0, availability, prices, cars, efficiency=EFFICIENCY)\n",
    "            if plan:\n",
    "                costs.append(plan)\n",
    "\n",
    "costs_df = pd.DataFrame(costs)\n",
    "\n",
    "# Select fair plans and enforce max port constraint\n",
    "costs_df.sort_values('total_cost', inplace=True)\n",
    "selected_plans = []\n",
    "used_ports = defaultdict(int)\n",
    "assigned = defaultdict(set)  # car_id → set of assigned days\n",
    "\n",
    "for _, plan in costs_df.iterrows():\n",
    "    car_id, day, start, finish = plan['car_id'], plan['day'], plan['start_hour'], plan['finish_hour']\n",
    "\n",
    "    if day in assigned[car_id]:\n",
    "        continue\n",
    "\n",
    "    if all(used_ports[h] < MAX_PORTS for h in range(start, finish + 1)):\n",
    "        selected_plans.append(plan)\n",
    "        for h in range(start, finish + 1):\n",
    "            used_ports[h] += 1\n",
    "        assigned[car_id].add(day)\n",
    "\n",
    "# Ensure last hour charging is assigned to one of the cars (to keep the cost low)\n",
    "def ensure_last_hour_charging(plans, days):\n",
    "    modified_plans = plans.copy()\n",
    "\n",
    "    for day in days:\n",
    "        last_hour = 23 + int(day) * 24\n",
    "        if not any(plan['day'] == day and plan['start_hour'] == last_hour for plan in modified_plans):\n",
    "            for plan in modified_plans:\n",
    "                if plan['day'] == day and plan['start_hour'] < last_hour:\n",
    "                    plan['start_hour'] = last_hour\n",
    "                    plan['finish_hour'] = last_hour + (plan['finish_hour'] - plan['start_hour'])\n",
    "                    break\n",
    "    return modified_plans"
   ],
   "id": "868d3bf96d222273",
   "outputs": [],
   "execution_count": 4
  },
  {
   "metadata": {
    "ExecuteTime": {
     "end_time": "2025-05-08T06:08:39.484986Z",
     "start_time": "2025-05-08T06:08:39.480333Z"
    }
   },
   "cell_type": "code",
   "source": "selected_plans_with_last_hour = ensure_last_hour_charging(selected_plans, DAYS)",
   "id": "b7ba786aeba87891",
   "outputs": [],
   "execution_count": 5
  },
  {
   "metadata": {
    "ExecuteTime": {
     "end_time": "2025-05-08T06:08:41.136498Z",
     "start_time": "2025-05-08T06:08:41.130294Z"
    }
   },
   "cell_type": "code",
   "source": [
    "# Convert to DataFrame\n",
    "fair_plan_df = pd.DataFrame(selected_plans_with_last_hour)\n",
    "fair_plan_df['start_hour_in_day'] = fair_plan_df['start_hour'] % 24\n",
    "fair_plan_df['finish_hour_in_day'] = fair_plan_df['finish_hour'] % 24\n",
    "\n",
    "# Evaluate fairness\n",
    "total_costs_per_car = fair_plan_df.groupby('car_id')['total_cost'].sum()\n",
    "fairness_std = np.std(total_costs_per_car)"
   ],
   "id": "b7d75cce71edfd0e",
   "outputs": [],
   "execution_count": 6
  },
  {
   "metadata": {
    "ExecuteTime": {
     "end_time": "2025-05-08T06:08:41.624205Z",
     "start_time": "2025-05-08T06:08:41.618229Z"
    }
   },
   "cell_type": "code",
   "source": [
    "print(\"\\nDaily schedule:\")\n",
    "print(fair_plan_df.sort_values(by=['day', 'car_id']))"
   ],
   "id": "478e696a8a1a5dcd",
   "outputs": [
    {
     "name": "stdout",
     "output_type": "stream",
     "text": [
      "\n",
      "Daily schedule:\n",
      "   car_id day  start_hour  finish_hour  hours_charging  total_cost  \\\n",
      "0   Car_1   0          18           20               3       23.58   \n",
      "7   Car_2   0          21           23               3       16.84   \n",
      "12  Car_3   0          23           23               2       13.89   \n",
      "16  Car_4   0          21           23               3       23.58   \n",
      "17  Car_1   1          42           44               3       23.58   \n",
      "24  Car_2   1          47           47               3       16.84   \n",
      "26  Car_3   1          43           45               3       23.16   \n",
      "30  Car_4   1          43           46               4       29.47   \n",
      "32  Car_1   2          66           68               3       23.58   \n",
      "39  Car_2   2          69           71               3       16.84   \n",
      "44  Car_3   2          71           71               2       13.89   \n",
      "47  Car_4   2          68           70               3       23.58   \n",
      "49  Car_1   3          90           92               3       23.58   \n",
      "56  Car_2   3          95           95               3       16.84   \n",
      "58  Car_3   3          91           93               3       23.16   \n",
      "62  Car_4   3          91           94               4       29.47   \n",
      "66  Car_1   4         116          118               3       23.58   \n",
      "68  Car_2   4         114          116               3       16.84   \n",
      "74  Car_3   4         119          117               2       13.89   \n",
      "80  Car_4   4         117          119               3       23.58   \n",
      "81  Car_1   5         138          140               3       23.58   \n",
      "85  Car_2   5         143          140               3       16.84   \n",
      "89  Car_3   5         138          140               3       23.16   \n",
      "\n",
      "    start_hour_in_day  finish_hour_in_day  \n",
      "0                  18                  20  \n",
      "7                  21                  23  \n",
      "12                 23                  23  \n",
      "16                 21                  23  \n",
      "17                 18                  20  \n",
      "24                 23                  23  \n",
      "26                 19                  21  \n",
      "30                 19                  22  \n",
      "32                 18                  20  \n",
      "39                 21                  23  \n",
      "44                 23                  23  \n",
      "47                 20                  22  \n",
      "49                 18                  20  \n",
      "56                 23                  23  \n",
      "58                 19                  21  \n",
      "62                 19                  22  \n",
      "66                 20                  22  \n",
      "68                 18                  20  \n",
      "74                 23                  21  \n",
      "80                 21                  23  \n",
      "81                 18                  20  \n",
      "85                 23                  20  \n",
      "89                 18                  20  \n"
     ]
    }
   ],
   "execution_count": 7
  },
  {
   "metadata": {
    "ExecuteTime": {
     "end_time": "2025-05-08T06:08:42.035272Z",
     "start_time": "2025-05-08T06:08:42.028348Z"
    }
   },
   "cell_type": "code",
   "source": [
    "# Final SoC calculation and cost\n",
    "def calculate_final_soc(initial_soc, charging_schedule, car_id):\n",
    "    car = next(car for car in cars if car['id'] == car_id)\n",
    "    total_energy_charged = sum(charging_schedule.values())\n",
    "    final_soc = initial_soc + (total_energy_charged / car['capacity_kWh'])\n",
    "    return round(min(final_soc, 1.0), 2)\n",
    "\n",
    "for idx, plan in fair_plan_df.iterrows():\n",
    "    initial_soc = 0  # Assuming initial SoC is 0\n",
    "    charging_schedule = {h: plan['total_cost'] / (prices.loc[h, 'price_eur_per_kWh'] * 0.95) for h in range(plan['start_hour'], plan['finish_hour'] + 1)}\n",
    "    final_soc = calculate_final_soc(initial_soc, charging_schedule, plan['car_id'])\n",
    "    fair_plan_df.at[idx, 'final_soc'] = final_soc\n",
    "\n",
    "print(\"\\nCharging Schedule and Final SoC:\")\n",
    "for idx, plan in fair_plan_df.iterrows():\n",
    "    print(f\"\\nCar: {plan['car_id']} (Day: {plan['day']})\")\n",
    "    print(f\"Total Cost: {plan['total_cost']} EUR\")\n",
    "    print(f\"Final SoC: {plan['final_soc']}\")\n",
    "\n",
    "def calculate_energy_charged(fair_plan_df):\n",
    "    energy_charged_summary = defaultdict(float)\n",
    "    for idx, plan in fair_plan_df.iterrows():\n",
    "        charging_schedule = {h: plan['total_cost'] / (prices.loc[h, 'price_eur_per_kWh'] * 0.95) for h in range(plan['start_hour'], plan['finish_hour'] + 1)}\n",
    "        total_energy_charged = sum(charging_schedule.values())\n",
    "        energy_charged_summary[plan['car_id']] += total_energy_charged\n",
    "\n",
    "    print(\"\\nTotal Energy Charged (kWh) per Car:\")\n",
    "    for car_id, energy_charged in energy_charged_summary.items():\n",
    "        print(f\"{car_id}: {round(energy_charged, 2)} kWh\")"
   ],
   "id": "ba75646e3ea5b231",
   "outputs": [
    {
     "name": "stdout",
     "output_type": "stream",
     "text": [
      "\n",
      "Charging Schedule and Final SoC:\n",
      "\n",
      "Car: Car_3 (Day: 4)\n",
      "Total Cost: 13.89 EUR\n",
      "Final SoC: 0.0\n",
      "\n",
      "Car: Car_3 (Day: 2)\n",
      "Total Cost: 13.89 EUR\n",
      "Final SoC: 0.66\n",
      "\n",
      "Car: Car_3 (Day: 0)\n",
      "Total Cost: 13.89 EUR\n",
      "Final SoC: 0.66\n",
      "\n",
      "Car: Car_2 (Day: 1)\n",
      "Total Cost: 16.84 EUR\n",
      "Final SoC: 0.89\n",
      "\n",
      "Car: Car_2 (Day: 2)\n",
      "Total Cost: 16.84 EUR\n",
      "Final SoC: 1.0\n",
      "\n",
      "Car: Car_2 (Day: 3)\n",
      "Total Cost: 16.84 EUR\n",
      "Final SoC: 0.89\n",
      "\n",
      "Car: Car_2 (Day: 4)\n",
      "Total Cost: 16.84 EUR\n",
      "Final SoC: 1.0\n",
      "\n",
      "Car: Car_2 (Day: 5)\n",
      "Total Cost: 16.84 EUR\n",
      "Final SoC: 0.0\n",
      "\n",
      "Car: Car_2 (Day: 0)\n",
      "Total Cost: 16.84 EUR\n",
      "Final SoC: 1.0\n",
      "\n",
      "Car: Car_3 (Day: 1)\n",
      "Total Cost: 23.16 EUR\n",
      "Final SoC: 1.0\n",
      "\n",
      "Car: Car_3 (Day: 3)\n",
      "Total Cost: 23.16 EUR\n",
      "Final SoC: 1.0\n",
      "\n",
      "Car: Car_3 (Day: 5)\n",
      "Total Cost: 23.16 EUR\n",
      "Final SoC: 1.0\n",
      "\n",
      "Car: Car_1 (Day: 4)\n",
      "Total Cost: 23.58 EUR\n",
      "Final SoC: 1.0\n",
      "\n",
      "Car: Car_1 (Day: 0)\n",
      "Total Cost: 23.58 EUR\n",
      "Final SoC: 1.0\n",
      "\n",
      "Car: Car_4 (Day: 4)\n",
      "Total Cost: 23.58 EUR\n",
      "Final SoC: 1.0\n",
      "\n",
      "Car: Car_1 (Day: 5)\n",
      "Total Cost: 23.58 EUR\n",
      "Final SoC: 1.0\n",
      "\n",
      "Car: Car_4 (Day: 2)\n",
      "Total Cost: 23.58 EUR\n",
      "Final SoC: 1.0\n",
      "\n",
      "Car: Car_4 (Day: 0)\n",
      "Total Cost: 23.58 EUR\n",
      "Final SoC: 1.0\n",
      "\n",
      "Car: Car_1 (Day: 1)\n",
      "Total Cost: 23.58 EUR\n",
      "Final SoC: 1.0\n",
      "\n",
      "Car: Car_1 (Day: 2)\n",
      "Total Cost: 23.58 EUR\n",
      "Final SoC: 1.0\n",
      "\n",
      "Car: Car_1 (Day: 3)\n",
      "Total Cost: 23.58 EUR\n",
      "Final SoC: 1.0\n",
      "\n",
      "Car: Car_4 (Day: 3)\n",
      "Total Cost: 29.47 EUR\n",
      "Final SoC: 1.0\n",
      "\n",
      "Car: Car_4 (Day: 1)\n",
      "Total Cost: 29.47 EUR\n",
      "Final SoC: 1.0\n"
     ]
    }
   ],
   "execution_count": 8
  },
  {
   "metadata": {
    "ExecuteTime": {
     "end_time": "2025-05-08T06:08:42.305552Z",
     "start_time": "2025-05-08T06:08:42.302216Z"
    }
   },
   "cell_type": "code",
   "source": [
    "# Call the function to for the energy charged summary\n",
    "calculate_energy_charged(fair_plan_df)"
   ],
   "id": "cf7586440903ce1e",
   "outputs": [
    {
     "name": "stdout",
     "output_type": "stream",
     "text": [
      "\n",
      "Total Energy Charged (kWh) per Car:\n",
      "Car_3: 621.63 kWh\n",
      "Car_2: 487.47 kWh\n",
      "Car_1: 1116.95 kWh\n",
      "Car_4: 1178.89 kWh\n"
     ]
    }
   ],
   "execution_count": 9
  },
  {
   "metadata": {
    "ExecuteTime": {
     "end_time": "2025-05-08T06:08:42.595497Z",
     "start_time": "2025-05-08T06:08:42.591997Z"
    }
   },
   "cell_type": "code",
   "source": [
    "weekly_costs = {}\n",
    "\n",
    "# Iterate through the DataFrame to accumulate the total costs for each car\n",
    "for _, plan in fair_plan_df.iterrows():\n",
    "    car_id = plan['car_id']\n",
    "    daily_cost = plan['total_cost']\n",
    "\n",
    "    if car_id not in weekly_costs:\n",
    "        weekly_costs[car_id] = 0\n",
    "\n",
    "    weekly_costs[car_id] += daily_cost\n",
    "\n",
    "for car_id, total_cost in weekly_costs.items():\n",
    "    print(f\"Total weekly cost for Car {car_id}: {total_cost:.2f} EUR\")"
   ],
   "id": "e0224b8f0eaac039",
   "outputs": [
    {
     "name": "stdout",
     "output_type": "stream",
     "text": [
      "Total weekly cost for Car Car_3: 111.15 EUR\n",
      "Total weekly cost for Car Car_2: 101.04 EUR\n",
      "Total weekly cost for Car Car_1: 141.48 EUR\n",
      "Total weekly cost for Car Car_4: 129.68 EUR\n"
     ]
    }
   ],
   "execution_count": 10
  },
  {
   "metadata": {
    "ExecuteTime": {
     "end_time": "2025-05-08T06:08:43.497782Z",
     "start_time": "2025-05-08T06:08:43.495987Z"
    }
   },
   "cell_type": "code",
   "source": "",
   "id": "8ec700ca5d704eef",
   "outputs": [],
   "execution_count": null
  },
  {
   "metadata": {},
   "cell_type": "code",
   "outputs": [],
   "execution_count": null,
   "source": "",
   "id": "bb74c08ed86a1b"
  }
 ],
 "metadata": {
  "kernelspec": {
   "display_name": "Python 3",
   "language": "python",
   "name": "python3"
  },
  "language_info": {
   "codemirror_mode": {
    "name": "ipython",
    "version": 2
   },
   "file_extension": ".py",
   "mimetype": "text/x-python",
   "name": "python",
   "nbconvert_exporter": "python",
   "pygments_lexer": "ipython2",
   "version": "2.7.6"
  }
 },
 "nbformat": 4,
 "nbformat_minor": 5
}
